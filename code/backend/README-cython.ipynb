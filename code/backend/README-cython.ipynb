{
 "cells": [
  {
   "cell_type": "markdown",
   "id": "exotic-liabilities",
   "metadata": {},
   "source": [
    "To install cython and run the code:\n",
    "\n",
    "- Install cython (e.g. pip install cython)\n",
    "- Compile the code in np_backend/cython by running python3 setup.py build_ext --inplace\n",
    "- You can try that the code works by running the notebook below"
   ]
  },
  {
   "cell_type": "code",
   "execution_count": 1,
   "id": "described-injury",
   "metadata": {},
   "outputs": [],
   "source": [
    "import np_backend.cython.cython_utils as cython_utils\n",
    "from np_backend.dro_conformal import find_worst_coverage\n",
    "import numpy as np"
   ]
  },
  {
   "cell_type": "code",
   "execution_count": 2,
   "id": "inside-agency",
   "metadata": {},
   "outputs": [],
   "source": [
    "np.random.seed(0)"
   ]
  },
  {
   "cell_type": "code",
   "execution_count": 3,
   "id": "buried-category",
   "metadata": {},
   "outputs": [],
   "source": [
    "N = 1000\n",
    "p = 0.95\n",
    "binary_coverage = np.random.binomial(1, p, size=N)\n",
    "delta = 0.1"
   ]
  },
  {
   "cell_type": "code",
   "execution_count": 4,
   "id": "final-secretariat",
   "metadata": {},
   "outputs": [],
   "source": [
    "begin, end = cython_utils.MaximumDensitySegment(\n",
    "    1.0 - binary_coverage, np.ones_like(binary_coverage, dtype=float),\n",
    "    float(delta * len(binary_coverage))\n",
    ")"
   ]
  },
  {
   "cell_type": "code",
   "execution_count": 5,
   "id": "frozen-quest",
   "metadata": {},
   "outputs": [
    {
     "data": {
      "text/plain": [
       "array([0, 1, 1, 1, 1, 0, 1, 1, 1, 1, 1, 1, 1, 1, 1, 1, 1, 1, 0, 1, 1, 1,\n",
       "       1, 1, 1, 1, 1, 1, 1, 1, 1, 1, 1, 1, 1, 1, 1, 1, 1, 1, 1, 1, 1, 0,\n",
       "       0, 1, 1, 1, 1, 0, 1, 1, 1, 1, 1, 1, 1, 1, 1, 1, 1, 1, 1, 1, 1, 1,\n",
       "       1, 1, 1, 1, 0, 0, 1, 1, 0, 1, 1, 0, 1, 1, 1, 1, 1, 1, 1, 1, 1, 1,\n",
       "       1, 1, 1, 1, 1, 1, 1, 1, 1, 1, 1, 1, 0, 0])"
      ]
     },
     "execution_count": 5,
     "metadata": {},
     "output_type": "execute_result"
    }
   ],
   "source": [
    "binary_coverage[begin:end+1]"
   ]
  },
  {
   "cell_type": "code",
   "execution_count": 7,
   "id": "aquatic-nebraska",
   "metadata": {},
   "outputs": [
    {
     "name": "stdout",
     "output_type": "stream",
     "text": [
      "116 µs ± 1.04 µs per loop (mean ± std. dev. of 7 runs, 10,000 loops each)\n"
     ]
    }
   ],
   "source": [
    "%timeit find_worst_coverage(binary_coverage, delta)"
   ]
  },
  {
   "cell_type": "markdown",
   "id": "commercial-major",
   "metadata": {},
   "source": [
    "Expected result: 0.8823"
   ]
  }
 ],
 "metadata": {
  "kernelspec": {
   "display_name": "Python 3 (ipykernel)",
   "language": "python",
   "name": "python3"
  },
  "language_info": {
   "codemirror_mode": {
    "name": "ipython",
    "version": 3
   },
   "file_extension": ".py",
   "mimetype": "text/x-python",
   "name": "python",
   "nbconvert_exporter": "python",
   "pygments_lexer": "ipython3",
   "version": "3.11.6"
  }
 },
 "nbformat": 4,
 "nbformat_minor": 5
}
